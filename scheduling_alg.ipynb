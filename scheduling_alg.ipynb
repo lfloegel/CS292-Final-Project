{
 "cells": [
  {
   "cell_type": "code",
   "execution_count": 2,
   "metadata": {},
   "outputs": [],
   "source": [
    "class Schedule:\n",
    "  end_time = property(lambda self: self.schedule[-1][1] if len(self.schedule) > 0 else 0)\n",
    "  \n",
    "  def __init__(self): \n",
    "    self.schedule = []\n",
    "\n",
    "  def __getitem__(self, index):\n",
    "    return self.schedule[index]\n",
    "\n",
    "  def __setitem__(self, index, value):\n",
    "    self.schedule[index] = value\n",
    "\n",
    "  def append(self, value):\n",
    "    self.schedule.append(value)\n",
    "\n",
    "  def __str__(self):\n",
    "    return self.__repr__()\n",
    "\n",
    "  def __repr__(self):\n",
    "    return str(self.schedule)\n"
   ]
  },
  {
   "cell_type": "code",
   "execution_count": 3,
   "metadata": {},
   "outputs": [],
   "source": [
    "def assign_schedule(start_time, schedules):\n",
    "  index = -1\n",
    "  end_time = -1\n",
    "  for i, schedule in enumerate(schedules): \n",
    "    if schedule.end_time > start_time:\n",
    "      continue\n",
    "    elif schedule.end_time > end_time:\n",
    "      end_time = schedule.end_time\n",
    "      index = i\n",
    "  return index\n",
    "\n",
    "\n",
    "def make_schedule(intervals: list[(int, int)], resources: int) -> list[list[(int, int)]]:\n",
    "  sorted_end   = sorted(intervals, key=lambda x: x[1])    # n*log(n)\n",
    "  schedules = [Schedule() for i in range(resources)]\n",
    "\n",
    "  for interval in sorted_end: \n",
    "    # get schedule with latest end time still before start of interval\n",
    "    index = assign_schedule(interval[0], schedules)\n",
    "    if index > -1: schedules[index].append(interval)\n",
    "\n",
    "  return schedules  "
   ]
  },
  {
   "cell_type": "code",
   "execution_count": 5,
   "metadata": {},
   "outputs": [
    {
     "data": {
      "text/plain": [
       "[[(1, 3), (7, 10)], [(2, 5), (6, 8), (9, 12)]]"
      ]
     },
     "execution_count": 5,
     "metadata": {},
     "output_type": "execute_result"
    }
   ],
   "source": [
    "intervals = [(1,3), (4,11), (2,5), (6,8), (9,12), (7,10)]\n",
    "make_schedule(intervals, 2)"
   ]
  }
 ],
 "metadata": {
  "interpreter": {
   "hash": "aee8b7b246df8f9039afb4144a1f6fd8d2ca17a180786b69acc140d282b71a49"
  },
  "kernelspec": {
   "display_name": "Python 3.9.9 64-bit",
   "language": "python",
   "name": "python3"
  },
  "language_info": {
   "codemirror_mode": {
    "name": "ipython",
    "version": 3
   },
   "file_extension": ".py",
   "mimetype": "text/x-python",
   "name": "python",
   "nbconvert_exporter": "python",
   "pygments_lexer": "ipython3",
   "version": "3.9.9"
  },
  "orig_nbformat": 4
 },
 "nbformat": 4,
 "nbformat_minor": 2
}
