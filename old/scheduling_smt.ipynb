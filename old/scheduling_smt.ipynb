{
 "cells": [
  {
   "cell_type": "code",
   "execution_count": 3,
   "metadata": {},
   "outputs": [],
   "source": [
    "from ortools.sat.python import cp_model\n",
    "import numpy as np"
   ]
  },
  {
   "cell_type": "code",
   "execution_count": 4,
   "metadata": {},
   "outputs": [],
   "source": [
    "# Define Input Data\n",
    "intervals = [(1,10), (1,15), (11,20), (16,20), (15,21)]\n",
    "num_resources = 2\n",
    "# intervals_input = [(1,3), (4,11)]"
   ]
  },
  {
   "cell_type": "code",
   "execution_count": 49,
   "metadata": {},
   "outputs": [],
   "source": [
    "''' One Resource Solution '''\n",
    "\n",
    "# Declare Model\n",
    "model = cp_model.CpModel()\n",
    "\n",
    "# Define Variables\n",
    "\n",
    "# resource assigned to each task/interval\n",
    "assign_resource = [model.NewIntVar(0, num_resources, f'task_assign{i+1}') for i in range(len(intervals))]\n",
    "\n",
    "# variables for intervals if present or not\n",
    "scheduled = [ model.NewOptionalIntervalVar(i[0], i[1]-i[0], i[1], assign_resource[e], f'interval{e+1}') \n",
    "              for e, i in enumerate(intervals) ]\n",
    "\n",
    "# No Overlapping Intervals\n",
    "model.AddNoOverlap(scheduled)\n",
    "\n",
    "# Maximize Length of Schedule\n",
    "model.Maximize(sum(assign_resource))"
   ]
  },
  {
   "cell_type": "code",
   "execution_count": 88,
   "metadata": {},
   "outputs": [],
   "source": [
    "''' Multiple Resource Numpy Solution '''\n",
    "\n",
    "# Declare Model\n",
    "model = cp_model.CpModel()\n",
    "\n",
    "# Define Variables\n",
    "num_intervals = len(intervals)\n",
    "\n",
    "# 2D boolean table for interval-resource assignments\n",
    "# row represents resource | column represents interval\n",
    "assign_resource = np.empty((num_resources, num_intervals), dtype=cp_model.IntVar)\n",
    "for i in range(num_intervals):\n",
    "  for r in range(num_resources):\n",
    "    assign_resource[r][i] = model.NewBoolVar(f'assign_i{i+1}_r{r+1}')\n",
    "\n",
    "# 2D array for schedules | row represents a resource\n",
    "schedules = np.empty((num_resources, num_intervals), dtype=cp_model.IntervalVar)\n",
    "for i in range(num_intervals):\n",
    "  interval = intervals[i]\n",
    "  for r in range(num_resources):\n",
    "    schedules[r][i] = model.NewOptionalIntervalVar(interval[0], interval[1]-interval[0], \n",
    "                      interval[1], assign_resource[r][i], f'interval_i{i+1}_r{r+1}')\n",
    "\n",
    "# No overlapping intervals\n",
    "for r in range(num_resources):\n",
    "  model.AddNoOverlap(schedules[r])\n",
    "\n",
    "# Each task scheduled at most once\n",
    "for i in range(num_intervals): \n",
    "  model.AddAtMostOne(assign_resource[:,i])\n",
    "\n",
    "# Maximize Length of Schedule\n",
    "model.Maximize(sum(assign_resource.flatten()))"
   ]
  },
  {
   "cell_type": "code",
   "execution_count": 18,
   "metadata": {},
   "outputs": [],
   "source": [
    "''' Multiple-Objective Solution '''\n",
    "\n",
    "# Declare Model\n",
    "model_1 = cp_model.CpModel()\n",
    "model_2 = cp_model.CpModel()\n",
    "\n",
    "# Define Variables\n",
    "num_intervals = len(intervals)\n",
    "\n",
    "# 2D boolean table for interval-resource assignments\n",
    "# row represents resource | column represents interval\n",
    "assign_resource_1 = np.empty((num_resources, num_intervals), dtype=cp_model.IntVar)\n",
    "assign_resource_2 = np.empty((num_resources, num_intervals), dtype=cp_model.IntVar)\n",
    "durations = np.zeros((num_resources, num_intervals))\n",
    "for i in range(num_intervals):\n",
    "  for r in range(num_resources):\n",
    "    assign_resource_1[r][i] = model_1.NewBoolVar(f'assign_i{i+1}_r{r+1}')\n",
    "    assign_resource_2[r][i] = model_2.NewBoolVar(f'assign_i{i+1}_r{r+1}')\n",
    "    durations[r][i] \n",
    "\n",
    "# 2D array for schedules | row represents a resource\n",
    "schedules_1 = np.empty((num_resources, num_intervals), dtype=cp_model.IntervalVar)\n",
    "schedules_2 = np.empty((num_resources, num_intervals), dtype=cp_model.IntervalVar)\n",
    "for i in range(num_intervals):\n",
    "  interval = intervals[i]\n",
    "  for r in range(num_resources):\n",
    "    durations[r][i] = interval[1]-interval[0]\n",
    "    schedules_1[r][i] = model_1.NewOptionalIntervalVar(interval[0], interval[1]-interval[0], \n",
    "                        interval[1], assign_resource_1[r][i], f'interval_i{i+1}_r{r+1}')\n",
    "    schedules_2[r][i] = model_2.NewOptionalIntervalVar(interval[0], interval[1]-interval[0], \n",
    "                        interval[1], assign_resource_2[r][i], f'interval_i{i+1}_r{r+1}')\n",
    "\n",
    "# No overlapping intervals\n",
    "for r in range(num_resources):\n",
    "  model_1.AddNoOverlap(schedules_1[r])\n",
    "  model_2.AddNoOverlap(schedules_2[r])\n",
    "\n",
    "# Each task scheduled at most once\n",
    "for i in range(num_intervals): \n",
    "  model_1.AddAtMostOne(assign_resource_1[:,i])\n",
    "  model_2.AddAtMostOne(assign_resource_2[:,i])\n",
    "\n",
    "# Maximize Length of Schedule\n",
    "model_1.Maximize(sum(assign_resource_1.flatten()))\n",
    "\n",
    "# Invoke Intermediate Solver\n",
    "solver_1 = cp_model.CpSolver()\n",
    "status_1 = solver_1.Solve(model_1)\n",
    "opt_val = int(solver_1.ObjectiveValue()) \n",
    "\n",
    "# Add Optimal Value for Solver 2\n",
    "model_2.Add(sum(assign_resource_1.flatten()) == opt_val)\n",
    "model_2.Maximize(cp_model.LinearExpr.WeightedSum(assign_resource_2.flatten(), durations.flatten()))"
   ]
  },
  {
   "cell_type": "code",
   "execution_count": 19,
   "metadata": {},
   "outputs": [],
   "source": [
    "# Invoke Solver\n",
    "solver = cp_model.CpSolver()\n",
    "status = solver.Solve(model_2)"
   ]
  },
  {
   "cell_type": "code",
   "execution_count": 21,
   "metadata": {},
   "outputs": [
    {
     "name": "stdout",
     "output_type": "stream",
     "text": [
      "Intervals Scheduled: 38.0\n",
      "--------\n",
      "Resource 1: [(1, 10), (11, 20)]\n",
      "Resource 2: [(1, 15), (15, 21)]\n"
     ]
    }
   ],
   "source": [
    "# Display Results\n",
    "\n",
    "# STATUS CODES = {OPTIMAL: 4, FEASIBLE: 2, INFEASIBLE: 3, MODEL_INVALID: 1, UNKNOWN: 0}\n",
    "if status == cp_model.OPTIMAL or status == cp_model.FEASIBLE:\n",
    "  print(f'Intervals Scheduled: {solver.ObjectiveValue()}')\n",
    "  print('--------')\n",
    "  # print schedules by resource\n",
    "  for r in range(num_resources):\n",
    "    scheduled_intervals = []\n",
    "    for i in range(num_intervals):\n",
    "      is_scheduled = solver.Value(assign_resource_2[r][i])\n",
    "      if is_scheduled: scheduled_intervals.append(intervals[i])\n",
    "    print(f'Resource {r+1}:', scheduled_intervals)\n"
   ]
  }
 ],
 "metadata": {
  "interpreter": {
   "hash": "aee8b7b246df8f9039afb4144a1f6fd8d2ca17a180786b69acc140d282b71a49"
  },
  "kernelspec": {
   "display_name": "Python 3.9.9 64-bit",
   "language": "python",
   "name": "python3"
  },
  "language_info": {
   "codemirror_mode": {
    "name": "ipython",
    "version": 3
   },
   "file_extension": ".py",
   "mimetype": "text/x-python",
   "name": "python",
   "nbconvert_exporter": "python",
   "pygments_lexer": "ipython3",
   "version": "3.9.9"
  },
  "orig_nbformat": 4
 },
 "nbformat": 4,
 "nbformat_minor": 2
}
